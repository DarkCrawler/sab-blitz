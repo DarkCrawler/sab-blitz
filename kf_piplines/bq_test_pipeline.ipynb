{
 "cells": [
  {
   "cell_type": "code",
   "execution_count": 1,
   "id": "b3e62617-8077-45e5-b34e-54228c31ce31",
   "metadata": {},
   "outputs": [],
   "source": [
    "import os\n",
    "PROJECT_ID = 'qwiklabs-gcp-00-59947c43422f'\n",
    "BUCKET_NAME=\"gs://\" + PROJECT_ID + \"-bucket\""
   ]
  },
  {
   "cell_type": "code",
   "execution_count": 2,
   "id": "0da3339f-a881-4220-b996-60913ce61f99",
   "metadata": {},
   "outputs": [],
   "source": [
    "import kfp\n",
    "\n",
    "from kfp.v2 import compiler, dsl\n",
    "from kfp.v2.dsl import component, pipeline, Artifact, ClassificationMetrics, Input, Output, Model, Metrics\n",
    "\n",
    "from google.cloud import aiplatform\n",
    "from google_cloud_pipeline_components import aiplatform as gcc_aip\n",
    "from typing import NamedTuple"
   ]
  },
  {
   "cell_type": "code",
   "execution_count": 3,
   "id": "555171ec-98cc-4988-babc-67adcbde9b44",
   "metadata": {},
   "outputs": [
    {
     "data": {
      "text/plain": [
       "'gs://qwiklabs-gcp-00-59947c43422f-bucket/pipeline_root/'"
      ]
     },
     "execution_count": 3,
     "metadata": {},
     "output_type": "execute_result"
    }
   ],
   "source": [
    "REGION=\"us-central1\"\n",
    "\n",
    "PIPELINE_ROOT = f\"{BUCKET_NAME}/pipeline_root/\"\n",
    "PIPELINE_ROOT"
   ]
  },
  {
   "cell_type": "code",
   "execution_count": 4,
   "id": "bf412be0-d8b6-4e89-b5c3-813608de207a",
   "metadata": {},
   "outputs": [
    {
     "name": "stdout",
     "output_type": "stream",
     "text": [
      "env: PATH=/usr/local/cuda/bin:/opt/conda/bin:/opt/conda/condabin:/usr/local/bin:/usr/bin:/bin:/usr/local/games:/usr/games:/home/jupyter/.local/bin\n"
     ]
    }
   ],
   "source": [
    "PATH=%env PATH\n",
    "%env PATH={PATH}:/home/jupyter/.local/bin"
   ]
  },
  {
   "cell_type": "code",
   "execution_count": 5,
   "id": "d70ceea6-41af-40a4-bb17-e9c3e58c9ff3",
   "metadata": {},
   "outputs": [],
   "source": [
    "# custom component to read data from BQ\n"
   ]
  },
  {
   "cell_type": "code",
   "execution_count": 1,
   "id": "db0f2822-87b5-4ca1-8c7c-421be27ee06d",
   "metadata": {},
   "outputs": [],
   "source": [
    "# Pandas "
   ]
  },
  {
   "cell_type": "code",
   "execution_count": 2,
   "id": "f68c7f7f-65d1-4a8f-8c73-6649ecb091d6",
   "metadata": {},
   "outputs": [],
   "source": []
  },
  {
   "cell_type": "code",
   "execution_count": 12,
   "id": "a0e03373-edd6-40b2-beac-fb341f757f52",
   "metadata": {},
   "outputs": [],
   "source": [
    "from google.cloud import bigquery\n",
    "\n",
    "bqclient = bigquery.Client()"
   ]
  },
  {
   "cell_type": "code",
   "execution_count": 6,
   "id": "bc056006-a60a-4b47-83c8-b0c368a338d8",
   "metadata": {},
   "outputs": [
    {
     "data": {
      "text/plain": [
       "'projects/qwiklabs-gcp-00-59947c43422f/datasets/kfp_test/tables/full_data'"
      ]
     },
     "execution_count": 6,
     "metadata": {},
     "output_type": "execute_result"
    }
   ],
   "source": [
    "project_id = \"qwiklabs-gcp-00-59947c43422f\"\n",
    "dataset_id = \"kfp_test\"\n",
    "table_id = \"full_data\"\n",
    "table = f\"projects/{project_id}/datasets/{dataset_id}/tables/{table_id}\"\n",
    "table"
   ]
  },
  {
   "cell_type": "code",
   "execution_count": 7,
   "id": "10d737fe-bd31-4b7c-aa14-b300e6f037cb",
   "metadata": {},
   "outputs": [],
   "source": [
    "query_string = \"\"\"\n",
    "SELECT\n",
    "*\n",
    "FROM `qwiklabs-gcp-00-59947c43422f.kfp_test.full_data`\n",
    "\"\"\""
   ]
  },
  {
   "cell_type": "code",
   "execution_count": 13,
   "id": "3ff46b3f-a687-4f12-8912-bb52907d2371",
   "metadata": {},
   "outputs": [],
   "source": [
    "dataframe = (\n",
    "    bqclient.query(query_string)\n",
    "    .result()\n",
    "    .to_dataframe(\n",
    "        # Optionally, explicitly request to use the BigQuery Storage API. As of\n",
    "        # google-cloud-bigquery version 1.26.0 and above, the BigQuery Storage\n",
    "        # API is used by default.\n",
    "        create_bqstorage_client=True,\n",
    "    )\n",
    ")"
   ]
  },
  {
   "cell_type": "code",
   "execution_count": 15,
   "id": "e4b57192-38e4-4a8d-a4aa-36b510b1f399",
   "metadata": {},
   "outputs": [
    {
     "data": {
      "text/plain": [
       "pandas.core.frame.DataFrame"
      ]
     },
     "execution_count": 15,
     "metadata": {},
     "output_type": "execute_result"
    }
   ],
   "source": [
    "#print(dataframe.head())\n",
    "type(dataframe)"
   ]
  },
  {
   "cell_type": "code",
   "execution_count": 29,
   "id": "0e0b879b-f7ba-40e4-91e4-4190e3b46100",
   "metadata": {},
   "outputs": [],
   "source": [
    "from typing import NamedTuple\n",
    "def test_func() -> NamedTuple(\n",
    "    \"Outputs\",\n",
    "    [\n",
    "        ('trained_data',pandas.core.frame.DataFrame),\n",
    "        ('rand_text',str)\n",
    "    ]\n",
    "):\n",
    "    trained_data=(\n",
    "        bqclient.query(query_string)\n",
    "        .result()\n",
    "        .to_dataframe(\n",
    "            # Optionally, explicitly request to use the BigQuery Storage API. As of\n",
    "            # google-cloud-bigquery version 1.26.0 and above, the BigQuery Storage\n",
    "            # API is used by default.\n",
    "            create_bqstorage_client=True,)\n",
    "    )\n",
    "    \n",
    "    return (trained_data,'something')\n"
   ]
  },
  {
   "cell_type": "code",
   "execution_count": 30,
   "id": "b30ece1d-d5a9-45ef-b85e-8d2ce227cf80",
   "metadata": {},
   "outputs": [],
   "source": [
    "ret = test_func()"
   ]
  },
  {
   "cell_type": "code",
   "execution_count": 47,
   "id": "42b53aa9-b511-4621-935e-8205d3a07468",
   "metadata": {},
   "outputs": [
    {
     "ename": "AttributeError",
     "evalue": "'tuple' object has no attribute 'outputs'",
     "output_type": "error",
     "traceback": [
      "\u001b[0;31m---------------------------------------------------------------------------\u001b[0m",
      "\u001b[0;31mAttributeError\u001b[0m                            Traceback (most recent call last)",
      "\u001b[0;32m/tmp/ipykernel_12532/3991458002.py\u001b[0m in \u001b[0;36m<module>\u001b[0;34m\u001b[0m\n\u001b[0;32m----> 1\u001b[0;31m \u001b[0mtype\u001b[0m\u001b[0;34m(\u001b[0m\u001b[0mret\u001b[0m\u001b[0;34m.\u001b[0m\u001b[0moutputs\u001b[0m\u001b[0;34m)\u001b[0m\u001b[0;34m\u001b[0m\u001b[0;34m\u001b[0m\u001b[0m\n\u001b[0m",
      "\u001b[0;31mAttributeError\u001b[0m: 'tuple' object has no attribute 'outputs'"
     ]
    }
   ],
   "source": [
    "type(ret.outputs)"
   ]
  }
 ],
 "metadata": {
  "environment": {
   "kernel": "python3",
   "name": "tf2-gpu.2-6.m91",
   "type": "gcloud",
   "uri": "gcr.io/deeplearning-platform-release/tf2-gpu.2-6:m91"
  },
  "kernelspec": {
   "display_name": "Python 3",
   "language": "python",
   "name": "python3"
  },
  "language_info": {
   "codemirror_mode": {
    "name": "ipython",
    "version": 3
   },
   "file_extension": ".py",
   "mimetype": "text/x-python",
   "name": "python",
   "nbconvert_exporter": "python",
   "pygments_lexer": "ipython3",
   "version": "3.7.12"
  }
 },
 "nbformat": 4,
 "nbformat_minor": 5
}
